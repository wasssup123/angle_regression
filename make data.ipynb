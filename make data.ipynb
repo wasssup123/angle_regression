{
 "cells": [
  {
   "cell_type": "code",
   "execution_count": 1,
   "id": "bcea8c0f",
   "metadata": {},
   "outputs": [
    {
     "name": "stdout",
     "output_type": "stream",
     "text": [
      "Saved 5000 train images to 'matlan_minst/train'\n",
      "Saved 5000 test images to 'matlan_minst/test'\n"
     ]
    }
   ],
   "source": [
    "import os\n",
    "from scipy.io import loadmat\n",
    "import numpy as np\n",
    "from PIL import Image\n",
    "\n",
    "base_dir = 'matlan_minst'\n",
    "train_dir = os.path.join(base_dir, 'train')\n",
    "test_dir = os.path.join(base_dir, 'test')\n",
    "os.makedirs(train_dir, exist_ok=True)\n",
    "os.makedirs(test_dir, exist_ok=True)\n",
    "\n",
    "def save_images(mat_file: str, var_name: str, out_dir: str):\n",
    "    data = loadmat(mat_file)[var_name]\n",
    "    if data.ndim == 3:\n",
    "        H, W, N = data.shape\n",
    "        data = data.reshape(H, W, 1, N)\n",
    "    H, W, C, N = data.shape\n",
    "\n",
    "    for i in range(N):\n",
    "        img = data[:, :, :, i].squeeze()\n",
    "        if img.dtype != np.uint8:\n",
    "            img = (img * 255).astype(np.uint8)\n",
    "        out_path = os.path.join(out_dir, f\"{i:05d}.png\")\n",
    "        Image.fromarray(img).save(out_path)\n",
    "\n",
    "save_images('DigitsDataTrain.mat', 'XTrain', train_dir)\n",
    "save_images('DigitsDataTest.mat', 'XTest', test_dir)\n",
    "\n",
    "print(f\"Saved {len(os.listdir(train_dir))} train images to '{train_dir}'\")\n",
    "print(f\"Saved {len(os.listdir(test_dir))} test images to '{test_dir}'\")\n"
   ]
  }
 ],
 "metadata": {
  "kernelspec": {
   "display_name": "Python 3",
   "language": "python",
   "name": "python3"
  },
  "language_info": {
   "codemirror_mode": {
    "name": "ipython",
    "version": 3
   },
   "file_extension": ".py",
   "mimetype": "text/x-python",
   "name": "python",
   "nbconvert_exporter": "python",
   "pygments_lexer": "ipython3",
   "version": "3.11.3"
  }
 },
 "nbformat": 4,
 "nbformat_minor": 5
}
